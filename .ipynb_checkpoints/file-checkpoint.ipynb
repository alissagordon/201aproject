{
 "cells": [
  {
   "cell_type": "code",
   "execution_count": 1,
   "id": "0221759c-882f-4a8f-9541-7cb01f848891",
   "metadata": {},
   "outputs": [],
   "source": [
    "import numpy as np\n",
    "import matplotlib.pyplot as plt"
   ]
  },
  {
   "cell_type": "code",
   "execution_count": 2,
   "id": "1089d559-99ed-40f8-9a0c-4ef4a8cff377",
   "metadata": {},
   "outputs": [],
   "source": [
    "#dictionary with the rankings of the cards\n",
    "cardranks={\n",
    "    \"10\": 1,\n",
    "    \"J\": 2,\n",
    "    \"Q\": 3,\n",
    "    \"K\": 4,\n",
    "    \"A\": 5}\n"
   ]
  },
  {
   "cell_type": "code",
   "execution_count": 3,
   "id": "0809b18c-b30e-4994-9660-8bae15494aaa",
   "metadata": {},
   "outputs": [],
   "source": [
    "#random sampling of cards\n",
    "def samplecards():\n",
    "    hand=np.random.choice(list(cardranks.keys()),5,replace=False)\n",
    "    return hand"
   ]
  },
  {
   "cell_type": "code",
   "execution_count": 4,
   "id": "3c2a5431-b1bd-4bfa-a4ae-f94346eb89e6",
   "metadata": {
    "tags": []
   },
   "outputs": [],
   "source": [
    "#finds numbers of wins, losses, ties depending on the hand\n",
    "def oneround(player1,player2):\n",
    "    win=0\n",
    "    loss=0\n",
    "    tie=0\n",
    "    for i in range(5):\n",
    "        val1=cardranks[player1[i]]\n",
    "        val2=cardranks[player2[i]]\n",
    "        if val1>val2:\n",
    "            win=win+1\n",
    "        elif val1<val2:\n",
    "            loss=loss+1\n",
    "        else: tie=tie+1\n",
    "        results={\n",
    "            \"win\": win,\n",
    "            \"loss\": loss,\n",
    "            \"tie\": tie}\n",
    "    return results"
   ]
  },
  {
   "cell_type": "code",
   "execution_count": 5,
   "id": "619fcf68-6460-443b-ab06-f874b5ecfc0e",
   "metadata": {},
   "outputs": [],
   "source": [
    "#both players are randomly shuffling their cards\n",
    "def randomgame():\n",
    "    player1=samplecards()\n",
    "    player2=samplecards()\n",
    "    return oneround(player1,player2)"
   ]
  },
  {
   "cell_type": "code",
   "execution_count": 6,
   "id": "cd3a482a-6145-475c-86be-e03295ce87ea",
   "metadata": {},
   "outputs": [],
   "source": [
    "#set test order\n",
    "ordered=['A','K','Q','J','10']"
   ]
  },
  {
   "cell_type": "code",
   "execution_count": 7,
   "id": "bfe6d77e-37b6-43c9-8c61-027bdbf4dc4c",
   "metadata": {},
   "outputs": [],
   "source": [
    "#scenario: one random shuffle and one ordered set\n",
    "def testgame():\n",
    "    player1=ordered\n",
    "    player2=samplecards()\n",
    "    return oneround(player1,player2)"
   ]
  },
  {
   "cell_type": "code",
   "execution_count": 8,
   "id": "189c62f5-198e-46c9-9895-ab9324fe71ce",
   "metadata": {},
   "outputs": [],
   "source": [
    "#finds probability of winning in the double random scenario\n",
    "def randomgamewins(trials):\n",
    "    wins=0\n",
    "    for i in range(trials):\n",
    "        rounds=randomgame()\n",
    "        if rounds[\"win\"]<rounds[\"loss\"]:\n",
    "            wins=wins+1\n",
    "    winprob=wins/trials\n",
    "    return winprob"
   ]
  },
  {
   "cell_type": "code",
   "execution_count": 9,
   "id": "418f1163-805d-4737-a54e-b2fa5e9292f2",
   "metadata": {},
   "outputs": [],
   "source": [
    "#finds probability of losing in the double random scenario\n",
    "def randomgameloss(trials):\n",
    "    losses=0\n",
    "    for i in range(trials):\n",
    "        rounds=randomgame()\n",
    "        if rounds[\"win\"]<rounds[\"loss\"]:\n",
    "            losses=losses+1\n",
    "    lossprob=losses/trials\n",
    "    return lossprob"
   ]
  },
  {
   "cell_type": "code",
   "execution_count": 10,
   "id": "b9460a33-23a1-4215-95ba-268120277d1e",
   "metadata": {},
   "outputs": [],
   "source": [
    "#finds probability of tying in the double random scenario\n",
    "def randomgameties(trials):\n",
    "    ties=0\n",
    "    for i in range(trials):\n",
    "        rounds=randomgame()\n",
    "        if rounds[\"win\"]==rounds[\"loss\"]:\n",
    "            ties=ties+1\n",
    "    tieprob=ties/trials\n",
    "    return tieprob"
   ]
  },
  {
   "cell_type": "code",
   "execution_count": null,
   "id": "233823fd-0381-4499-86dd-69e6cd16b8a0",
   "metadata": {},
   "outputs": [],
   "source": [
    "#calculate probability of winning (demonstrate law of large numbers)\n",
    "trials=np.arange(100,50100,500)\n",
    "winprob=[]\n",
    "for i in range(len(trials)):\n",
    "    trial=trials[i]\n",
    "    winprob.append(randomgamewins(trial))"
   ]
  },
  {
   "cell_type": "code",
   "execution_count": null,
   "id": "043f24e7-19bb-4ee2-987c-b1f00772506d",
   "metadata": {},
   "outputs": [],
   "source": [
    "#calculate probability of losing (demonstrate law of large numbers)\n",
    "loseprob=[]\n",
    "for i in range(len(trials)):\n",
    "    trial=trials[i]\n",
    "    loseprob.append(randomgameloss(trial))"
   ]
  },
  {
   "cell_type": "code",
   "execution_count": null,
   "id": "15716416-085f-45a5-8b3b-9a6d8f731637",
   "metadata": {},
   "outputs": [],
   "source": [
    "#calculate probability of tying (demonstrate law of large numbers)\n",
    "tieprob=[]\n",
    "for i in range(len(trials)):\n",
    "    trial=trials[i]\n",
    "    tieprob.append(randomgameties(trial))"
   ]
  },
  {
   "cell_type": "code",
   "execution_count": null,
   "id": "0d9b5dc6-1385-4b27-89fe-9d3ef1a2d7c7",
   "metadata": {},
   "outputs": [],
   "source": [
    "#plot showing lln for win, lose, and tie for double random scenario\n",
    "plt.plot(trials,winprob, label=\"Probability of Winning\")\n",
    "plt.plot(trials,loseprob, label=\"Probability of Losing\")\n",
    "plt.plot(trials, tieprob, label= \"Probability of Tying\")\n",
    "plt.title(\"Long-Term Empirical Probabilities\")\n",
    "plt.xlabel(\"Number of Trials\")\n",
    "plt.ylabel(\"Probability\")\n",
    "plt.legend()"
   ]
  },
  {
   "cell_type": "code",
   "execution_count": null,
   "id": "f29f53e7-09d3-4f33-a834-66d96deb54cf",
   "metadata": {},
   "outputs": [],
   "source": [
    "#finds probability of winning in the single random scenario\n",
    "def testgamewins(trials):\n",
    "    wins=0\n",
    "    for i in range(trials):\n",
    "        rounds=testgame()\n",
    "        if rounds[\"win\"]<rounds[\"loss\"]:\n",
    "            wins=wins+1\n",
    "    winprob=wins/trials\n",
    "    return winprob\n",
    "#finds probability of losing in the single random scenario\n",
    "def testgameloss(trials):\n",
    "    losses=0\n",
    "    for i in range(trials):\n",
    "        rounds=testgame()\n",
    "        if rounds[\"win\"]<rounds[\"loss\"]:\n",
    "            losses=losses+1\n",
    "    lossprob=losses/trials\n",
    "    return lossprob\n",
    "#finds probability of tying in the single random scenario\n",
    "def testgameties(trials):\n",
    "    ties=0\n",
    "    for i in range(trials):\n",
    "        rounds=testgame()\n",
    "        if rounds[\"win\"]==rounds[\"loss\"]:\n",
    "            ties=ties+1\n",
    "    tieprob=ties/trials\n",
    "    return tieprob"
   ]
  },
  {
   "cell_type": "code",
   "execution_count": null,
   "id": "96f0fc6d-200a-4d63-a932-5bd9d00fcaf5",
   "metadata": {},
   "outputs": [],
   "source": [
    "#calculate probability of winning (demonstrate law of large numbers)\n",
    "trials=np.arange(100,50100,500)\n",
    "testwinprob=[]\n",
    "for i in range(len(trials)):\n",
    "    trial=trials[i]\n",
    "    testwinprob.append(testgamewins(trial))"
   ]
  },
  {
   "cell_type": "code",
   "execution_count": null,
   "id": "64eaf5da-30e0-4652-8522-68c3cdaf9b32",
   "metadata": {},
   "outputs": [],
   "source": [
    "#calculate probability of losing (demonstrate law of large numbers)\n",
    "testloseprob=[]\n",
    "for i in range(len(trials)):\n",
    "    trial=trials[i]\n",
    "    testloseprob.append(testgameloss(trial))"
   ]
  },
  {
   "cell_type": "code",
   "execution_count": null,
   "id": "7448e1be-bf4f-4c93-a833-2e14037c8576",
   "metadata": {},
   "outputs": [],
   "source": [
    "#calculate probability of tying (demonstrate law of large numbers)\n",
    "testtieprob=[]\n",
    "for i in range(len(trials)):\n",
    "    trial=trials[i]\n",
    "    testtieprob.append(testgameties(trial))"
   ]
  },
  {
   "cell_type": "code",
   "execution_count": null,
   "id": "d476f301-c9eb-4010-8342-7fedf357c1bd",
   "metadata": {},
   "outputs": [],
   "source": [
    "#plot showing lln for win, lose, and tie for single random scenario\n",
    "plt.plot(trials,testwinprob, label=\"Probability of Winning\")\n",
    "plt.plot(trials,testloseprob, label=\"Probability of Losing\")\n",
    "plt.plot(trials, testtieprob, label= \"Probability of Tying\")\n",
    "plt.title(\"Long-Term Empirical Probabilities\")\n",
    "plt.xlabel(\"Number of Trials\")\n",
    "plt.ylabel(\"Probability\")\n",
    "plt.legend()"
   ]
  },
  {
   "cell_type": "code",
   "execution_count": 12,
   "id": "ce808142",
   "metadata": {},
   "outputs": [],
   "source": [
    "#Simulating the game with payouts\n",
    "total_wins = 0\n",
    "total_losses = 0\n",
    "total_ties = 0\n",
    "n_sims = 100000\n",
    "\n",
    "for i in range(n_sims):\n",
    "    outcome = randomgame()\n",
    "    if outcome[\"win\"] > outcome[\"loss\"]:\n",
    "        total_wins += 1\n",
    "    elif outcome[\"loss\"] > outcome[\"win\"]:\n",
    "        total_losses += 1\n",
    "    else:\n",
    "        total_ties += 1\n",
    "\n",
    "prob_win = total_wins / n_sims\n",
    "prob_loss = total_losses / n_sims\n",
    "prob_tie = total_ties / n_sims"
   ]
  },
  {
   "cell_type": "code",
   "execution_count": 14,
   "id": "bdd83df3",
   "metadata": {},
   "outputs": [
    {
     "data": {
      "text/plain": [
       "-0.34751999999999983"
      ]
     },
     "execution_count": 14,
     "metadata": {},
     "output_type": "execute_result"
    }
   ],
   "source": [
    "#Defining payouts and calculating expectation\n",
    "buy_in = 10\n",
    "payoff_win = 8\n",
    "payoff_loss = -9\n",
    "payoff_tie = 0\n",
    "\n",
    "expected_value = prob_win * payoff_win + prob_loss * payoff_loss + prob_tie * payoff_tie\n",
    "expected_value"
   ]
  },
  {
   "cell_type": "code",
   "execution_count": 23,
   "id": "e2ec7401",
   "metadata": {},
   "outputs": [],
   "source": [
    "#Adding 4 of 5 flips rule\n",
    "def outcome_casino(player1, player2):\n",
    "    outcome = oneround(player1, player2)\n",
    "    if outcome[\"win\"] >= 4:\n",
    "        return \"win\"\n",
    "    else:\n",
    "        return \"loss\""
   ]
  },
  {
   "cell_type": "code",
   "execution_count": 24,
   "id": "e1ecb913",
   "metadata": {},
   "outputs": [],
   "source": [
    "#Simulating the adjusted game with payouts\n",
    "total_wins = 0\n",
    "total_losses = 0\n",
    "\n",
    "for i in range(n_sims):\n",
    "    outcome = outcome_casino(samplecards(), samplecards())\n",
    "    if outcome == \"win\":\n",
    "        total_wins += 1\n",
    "    else:\n",
    "        total_losses += 1\n",
    "\n",
    "prob_win = total_wins / n_sims\n",
    "prob_loss = total_losses / n_sims"
   ]
  },
  {
   "cell_type": "code",
   "execution_count": 25,
   "id": "94848761",
   "metadata": {},
   "outputs": [
    {
     "data": {
      "text/plain": [
       "-4.631449999999999"
      ]
     },
     "execution_count": 25,
     "metadata": {},
     "output_type": "execute_result"
    }
   ],
   "source": [
    "#Defining new payouts and Calculating Expected Value\n",
    "payoff_win = 40\n",
    "payoff_loss = -5\n",
    "expected_value_new = (prob_win * payoff_win) + (prob_loss * payoff_loss)\n",
    "expected_value_new"
   ]
  },
  {
   "cell_type": "code",
   "execution_count": 17,
   "id": "fea7228c",
   "metadata": {},
   "outputs": [
    {
     "data": {
      "image/png": "[encoded data removed]",
      "text/plain": [
       "<Figure size 1000x500 with 1 Axes>"
      ]
     },
     "metadata": {},
     "output_type": "display_data"
    }
   ],
   "source": [
    "def simulate_games(n_sims):\n",
    "    total_wins = 0\n",
    "    total_losses = 0\n",
    "    total_ties = 0\n",
    "    outcomes = []\n",
    "\n",
    "    for i in range(n_sims):\n",
    "        outcome = randomgame()\n",
    "        if outcome[\"win\"] > outcome[\"loss\"]:\n",
    "            total_wins += 1\n",
    "        elif outcome[\"loss\"] > outcome[\"win\"]:\n",
    "            total_losses += 1\n",
    "        else:\n",
    "            total_ties += 1\n",
    "\n",
    "        prob_win = total_wins / (i+1)\n",
    "        prob_loss = total_losses / (i+1)\n",
    "        prob_tie = total_ties / (i+1)\n",
    "\n",
    "        expected_value = prob_win * payoff_win + prob_loss * payoff_loss + prob_tie * payoff_tie\n",
    "        outcomes.append(expected_value)\n",
    "\n",
    "    return outcomes\n",
    "\n",
    "ev_convergence = simulate_games(n_sims)\n",
    "\n",
    "# Plot the convergence of the expected value\n",
    "plt.figure(figsize=(10, 5))\n",
    "plt.plot(range(1, n_sims + 1), ev_convergence, label='EV Convergence')\n",
    "plt.xlabel('Number of Simulations')\n",
    "plt.ylabel('Expected Value')\n",
    "plt.grid(True)\n",
    "plt.show()"
   ]
  },
  {
   "cell_type": "code",
   "execution_count": 22,
   "id": "c2da839b",
   "metadata": {},
   "outputs": [
    {
     "data": {
      "image/png": "[encoded data removed]",
      "text/plain": [
       "<Figure size 1000x500 with 1 Axes>"
      ]
     },
     "metadata": {},
     "output_type": "display_data"
    }
   ],
   "source": [
    "payoff_win = 40\n",
    "payoff_loss = -5\n",
    "\n",
    "def simulate_games(n_sims):\n",
    "    total_wins = 0\n",
    "    total_losses = 0\n",
    "    total_ties = 0\n",
    "    outcomes = []\n",
    "\n",
    "    for i in range(n_sims):\n",
    "        outcome = outcome_casino(samplecards(), samplecards())\n",
    "        if outcome == \"win\":\n",
    "            total_wins += 1\n",
    "        elif outcome == \"loss\":\n",
    "            total_losses += 1\n",
    "        else:\n",
    "            total_ties += 1\n",
    "\n",
    "        prob_win = total_wins / (i+1)\n",
    "        prob_loss = total_losses / (i+1)\n",
    "        prob_tie = total_ties / (i+1)\n",
    "\n",
    "        expected_value = (prob_win * payoff_win) + (prob_loss * payoff_loss)\n",
    "        outcomes.append(expected_value)\n",
    "\n",
    "    return outcomes\n",
    "\n",
    "ev_convergence = simulate_games(n_sims)\n",
    "\n",
    "# Plot the convergence of the expected value\n",
    "plt.figure(figsize=(10, 5))\n",
    "plt.plot(range(1, n_sims + 1), ev_convergence, label='EV Convergence')\n",
    "plt.xlabel('Number of Simulations')\n",
    "plt.ylabel('Expected Value')\n",
    "plt.grid(True)\n",
    "plt.show()"
   ]
  },
  {
   "cell_type": "code",
   "execution_count": null,
   "id": "7c6d8ede",
   "metadata": {},
   "outputs": [],
   "source": []
  }
 ],
 "metadata": {
  "kernelspec": {
   "display_name": "Python 3 (ipykernel)",
   "language": "python",
   "name": "python3"
  },
  "language_info": {
   "codemirror_mode": {
    "name": "ipython",
    "version": 3
   },
   "file_extension": ".py",
   "mimetype": "text/x-python",
   "name": "python",
   "nbconvert_exporter": "python",
   "pygments_lexer": "ipython3",
   "version": "3.10.12"
  }
 },
 "nbformat": 4,
 "nbformat_minor": 5
}
