{
 "cells": [
  {
   "cell_type": "code",
   "execution_count": 8,
   "id": "0221759c-882f-4a8f-9541-7cb01f848891",
   "metadata": {},
   "outputs": [],
   "source": [
    "import numpy as np"
   ]
  },
  {
   "cell_type": "code",
   "execution_count": 10,
   "id": "1089d559-99ed-40f8-9a0c-4ef4a8cff377",
   "metadata": {},
   "outputs": [],
   "source": [
    "#dictionary with the rankings of the cards\n",
    "cardranks={\n",
    "    \"10\": 1,\n",
    "    \"J\": 2,\n",
    "    \"Q\": 3,\n",
    "    \"K\": 4,\n",
    "    \"A\": 5}\n"
   ]
  },
  {
   "cell_type": "code",
   "execution_count": 33,
   "id": "0809b18c-b30e-4994-9660-8bae15494aaa",
   "metadata": {},
   "outputs": [],
   "source": [
    "#random sampling of cards\n",
    "def samplecards():\n",
    "    hand=np.random.choice(list(cardranks.keys()),5,replace=False)\n",
    "    return hand"
   ]
  },
  {
   "cell_type": "code",
   "execution_count": 76,
   "id": "3c2a5431-b1bd-4bfa-a4ae-f94346eb89e6",
   "metadata": {
    "tags": []
   },
   "outputs": [],
   "source": [
    "#finds numbers of wins, losses, ties depending on the hand\n",
    "def oneround(player1,player2):\n",
    "    win=0\n",
    "    loss=0\n",
    "    tie=0\n",
    "    for i in range(5):\n",
    "        val1=cardranks[player1[i]]\n",
    "        val2=cardranks[player2[i]]\n",
    "        if val1>val2:\n",
    "            win=win+1\n",
    "        elif val1<val2:\n",
    "            loss=loss+1\n",
    "        else: tie=tie+1\n",
    "        results={\n",
    "            \"win\": win,\n",
    "            \"loss\": loss,\n",
    "            \"tie\": tie}\n",
    "    return results"
   ]
  },
  {
   "cell_type": "code",
   "execution_count": 77,
   "id": "619fcf68-6460-443b-ab06-f874b5ecfc0e",
   "metadata": {},
   "outputs": [],
   "source": [
    "#both players are randomly shuffling their cards\n",
    "def randomgame():\n",
    "    player1=samplecards()\n",
    "    player2=samplecards()\n",
    "    return oneround(player1,player2)"
   ]
  }
 ],
 "metadata": {
  "kernelspec": {
   "display_name": "Python 3 (ipykernel)",
   "language": "python",
   "name": "python3"
  },
  "language_info": {
   "codemirror_mode": {
    "name": "ipython",
    "version": 3
   },
   "file_extension": ".py",
   "mimetype": "text/x-python",
   "name": "python",
   "nbconvert_exporter": "python",
   "pygments_lexer": "ipython3",
   "version": "3.9.15"
  }
 },
 "nbformat": 4,
 "nbformat_minor": 5
}
